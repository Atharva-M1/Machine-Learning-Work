{
  "nbformat": 4,
  "nbformat_minor": 0,
  "metadata": {
    "colab": {
      "provenance": []
    },
    "kernelspec": {
      "name": "python3",
      "display_name": "Python 3"
    },
    "language_info": {
      "name": "python"
    }
  },
  "cells": [
    {
      "cell_type": "markdown",
      "source": [
        "###Atharva Mankame [21BAI1780]"
      ],
      "metadata": {
        "id": "DAxEFl3R7S-x"
      }
    },
    {
      "cell_type": "markdown",
      "source": [
        "### Implementing a convolutional neural network with k-fold cross validation (MNIST dataset)"
      ],
      "metadata": {
        "id": "LN0q84cv7cX4"
      }
    },
    {
      "cell_type": "code",
      "source": [
        "import numpy as np\n",
        "import keras\n",
        "from keras.models import Sequential\n",
        "from keras.layers import Conv2D, MaxPooling2D, Flatten, Dense\n",
        "from sklearn.model_selection import StratifiedKFold\n",
        "from sklearn.model_selection import cross_val_score\n",
        "from keras.datasets import mnist\n",
        "from keras.utils import to_categorical"
      ],
      "metadata": {
        "id": "5MaCW2GPf724"
      },
      "execution_count": 1,
      "outputs": []
    },
    {
      "cell_type": "code",
      "source": [
        "(X_train, y_train), (X_test, y_test) = mnist.load_data()"
      ],
      "metadata": {
        "id": "aRKX4pN_f75E",
        "colab": {
          "base_uri": "https://localhost:8080/"
        },
        "outputId": "07e3bfb9-6884-43e6-a3e3-20be7650499e"
      },
      "execution_count": 2,
      "outputs": [
        {
          "output_type": "stream",
          "name": "stdout",
          "text": [
            "Downloading data from https://storage.googleapis.com/tensorflow/tf-keras-datasets/mnist.npz\n",
            "11490434/11490434 [==============================] - 0s 0us/step\n"
          ]
        }
      ]
    },
    {
      "cell_type": "code",
      "source": [
        "X_train = X_train[0:10000,:]\n",
        "y_train = y_train[0:10000]\n",
        "X_test = X_test[0:2000,:]\n",
        "y_test = y_test[0:2000]"
      ],
      "metadata": {
        "id": "MZbImLdUg_RB"
      },
      "execution_count": 3,
      "outputs": []
    },
    {
      "cell_type": "code",
      "source": [
        "print(X_train.shape)\n",
        "print(X_test.shape)"
      ],
      "metadata": {
        "colab": {
          "base_uri": "https://localhost:8080/"
        },
        "id": "Iar0fsvkhB29",
        "outputId": "6cbaaf9a-281c-4d94-f55a-d5ba0ea4e094"
      },
      "execution_count": 4,
      "outputs": [
        {
          "output_type": "stream",
          "name": "stdout",
          "text": [
            "(10000, 28, 28)\n",
            "(2000, 28, 28)\n"
          ]
        }
      ]
    },
    {
      "cell_type": "code",
      "source": [
        "X_train = X_train.reshape(X_train.shape[0], 28, 28, 1).astype('float32') / 255\n",
        "X_test = X_test.reshape(X_test.shape[0], 28, 28, 1).astype('float32') / 255   # 60000,28,28,1"
      ],
      "metadata": {
        "id": "0Fp__xiOf77v"
      },
      "execution_count": 5,
      "outputs": []
    },
    {
      "cell_type": "code",
      "source": [
        " # one hot encoding\n",
        "y_train = to_categorical(y_train)\n",
        "y_test = to_categorical(y_test)"
      ],
      "metadata": {
        "id": "PADoyK1wf7-Y"
      },
      "execution_count": 6,
      "outputs": []
    },
    {
      "cell_type": "code",
      "source": [
        "def create_cnn_model():\n",
        "    model = Sequential()\n",
        "    model.add(Conv2D(32, (3, 3), input_shape=(28, 28, 1), activation='relu'))\n",
        "    model.add(MaxPooling2D(pool_size=(2, 2)))\n",
        "    model.add(Flatten())\n",
        "    model.add(Dense(128, activation='relu'))\n",
        "    model.add(Dense(10, activation='softmax'))\n",
        "    model.compile(loss='categorical_crossentropy', optimizer='adam', metrics=['accuracy'])\n",
        "    return model"
      ],
      "metadata": {
        "id": "9xsfio-Hf8A7"
      },
      "execution_count": 7,
      "outputs": []
    },
    {
      "cell_type": "code",
      "source": [
        "kfold = StratifiedKFold(n_splits=5, shuffle=True, random_state=0)"
      ],
      "metadata": {
        "id": "1JEcf79edNaN"
      },
      "execution_count": 8,
      "outputs": []
    },
    {
      "cell_type": "code",
      "source": [
        "cvscores = []\n",
        "for train, test in kfold.split(X_train, y_train.argmax(axis=1)):\n",
        "    model = create_cnn_model()\n",
        "    model.fit(X_train[train], y_train[train], epochs=10, batch_size=32, verbose=1)\n",
        "    scores = model.evaluate(X_train[test], y_train[test], verbose=0)\n",
        "    print(\"%s: %.2f%%\" % (model.metrics_names[1], scores[1]*100))\n",
        "    cvscores.append(scores[1] * 100)"
      ],
      "metadata": {
        "id": "KVD6EMgzgLjD",
        "colab": {
          "base_uri": "https://localhost:8080/"
        },
        "outputId": "8c94efd8-3c49-421b-b86b-f245b72a73e9"
      },
      "execution_count": 9,
      "outputs": [
        {
          "output_type": "stream",
          "name": "stdout",
          "text": [
            "Epoch 1/10\n",
            "250/250 [==============================] - 17s 51ms/step - loss: 0.4366 - accuracy: 0.8770\n",
            "Epoch 2/10\n",
            "250/250 [==============================] - 7s 29ms/step - loss: 0.1561 - accuracy: 0.9545\n",
            "Epoch 3/10\n",
            "250/250 [==============================] - 6s 24ms/step - loss: 0.0940 - accuracy: 0.9736\n",
            "Epoch 4/10\n",
            "250/250 [==============================] - 5s 21ms/step - loss: 0.0574 - accuracy: 0.9840\n",
            "Epoch 5/10\n",
            "250/250 [==============================] - 5s 20ms/step - loss: 0.0411 - accuracy: 0.9884\n",
            "Epoch 6/10\n",
            "250/250 [==============================] - 6s 25ms/step - loss: 0.0247 - accuracy: 0.9937\n",
            "Epoch 7/10\n",
            "250/250 [==============================] - 5s 21ms/step - loss: 0.0155 - accuracy: 0.9962\n",
            "Epoch 8/10\n",
            "250/250 [==============================] - 6s 25ms/step - loss: 0.0094 - accuracy: 0.9981\n",
            "Epoch 9/10\n",
            "250/250 [==============================] - 5s 19ms/step - loss: 0.0043 - accuracy: 0.9998\n",
            "Epoch 10/10\n",
            "250/250 [==============================] - 6s 23ms/step - loss: 0.0032 - accuracy: 0.9998\n",
            "accuracy: 97.05%\n",
            "Epoch 1/10\n",
            "250/250 [==============================] - 8s 28ms/step - loss: 0.4125 - accuracy: 0.8819\n",
            "Epoch 2/10\n",
            "250/250 [==============================] - 5s 19ms/step - loss: 0.1390 - accuracy: 0.9569\n",
            "Epoch 3/10\n",
            "250/250 [==============================] - 6s 24ms/step - loss: 0.0785 - accuracy: 0.9768\n",
            "Epoch 4/10\n",
            "250/250 [==============================] - 5s 19ms/step - loss: 0.0505 - accuracy: 0.9852\n",
            "Epoch 5/10\n",
            "250/250 [==============================] - 6s 26ms/step - loss: 0.0332 - accuracy: 0.9905\n",
            "Epoch 6/10\n",
            "250/250 [==============================] - 5s 19ms/step - loss: 0.0192 - accuracy: 0.9950\n",
            "Epoch 7/10\n",
            "250/250 [==============================] - 4s 18ms/step - loss: 0.0091 - accuracy: 0.9986\n",
            "Epoch 8/10\n",
            "250/250 [==============================] - 6s 23ms/step - loss: 0.0063 - accuracy: 0.9992\n",
            "Epoch 9/10\n",
            "250/250 [==============================] - 5s 19ms/step - loss: 0.0051 - accuracy: 0.9990\n",
            "Epoch 10/10\n",
            "250/250 [==============================] - 6s 23ms/step - loss: 0.0089 - accuracy: 0.9976\n",
            "accuracy: 97.25%\n",
            "Epoch 1/10\n",
            "250/250 [==============================] - 6s 21ms/step - loss: 0.4220 - accuracy: 0.8780\n",
            "Epoch 2/10\n",
            "250/250 [==============================] - 4s 18ms/step - loss: 0.1478 - accuracy: 0.9570\n",
            "Epoch 3/10\n",
            "250/250 [==============================] - 5s 18ms/step - loss: 0.0792 - accuracy: 0.9764\n",
            "Epoch 4/10\n",
            "250/250 [==============================] - 5s 21ms/step - loss: 0.0476 - accuracy: 0.9877\n",
            "Epoch 5/10\n",
            "250/250 [==============================] - 4s 18ms/step - loss: 0.0300 - accuracy: 0.9919\n",
            "Epoch 6/10\n",
            "250/250 [==============================] - 5s 21ms/step - loss: 0.0186 - accuracy: 0.9955\n",
            "Epoch 7/10\n",
            "250/250 [==============================] - 5s 21ms/step - loss: 0.0150 - accuracy: 0.9960\n",
            "Epoch 8/10\n",
            "250/250 [==============================] - 5s 19ms/step - loss: 0.0076 - accuracy: 0.9990\n",
            "Epoch 9/10\n",
            "250/250 [==============================] - 5s 21ms/step - loss: 0.0046 - accuracy: 0.9995\n",
            "Epoch 10/10\n",
            "250/250 [==============================] - 5s 18ms/step - loss: 0.0051 - accuracy: 0.9994\n",
            "accuracy: 97.05%\n",
            "Epoch 1/10\n",
            "250/250 [==============================] - 6s 21ms/step - loss: 0.4308 - accuracy: 0.8710\n",
            "Epoch 2/10\n",
            "250/250 [==============================] - 5s 22ms/step - loss: 0.1555 - accuracy: 0.9556\n",
            "Epoch 3/10\n",
            "250/250 [==============================] - 5s 20ms/step - loss: 0.0858 - accuracy: 0.9755\n",
            "Epoch 4/10\n",
            "250/250 [==============================] - 6s 23ms/step - loss: 0.0567 - accuracy: 0.9839\n",
            "Epoch 5/10\n",
            "250/250 [==============================] - 5s 18ms/step - loss: 0.0354 - accuracy: 0.9906\n",
            "Epoch 6/10\n",
            "250/250 [==============================] - 6s 23ms/step - loss: 0.0218 - accuracy: 0.9949\n",
            "Epoch 7/10\n",
            "250/250 [==============================] - 5s 18ms/step - loss: 0.0156 - accuracy: 0.9965\n",
            "Epoch 8/10\n",
            "250/250 [==============================] - 4s 18ms/step - loss: 0.0104 - accuracy: 0.9983\n",
            "Epoch 9/10\n",
            "250/250 [==============================] - 5s 22ms/step - loss: 0.0065 - accuracy: 0.9990\n",
            "Epoch 10/10\n",
            "250/250 [==============================] - 4s 17ms/step - loss: 0.0027 - accuracy: 1.0000\n",
            "accuracy: 97.25%\n",
            "Epoch 1/10\n",
            "250/250 [==============================] - 6s 22ms/step - loss: 0.4601 - accuracy: 0.8662\n",
            "Epoch 2/10\n",
            "250/250 [==============================] - 5s 20ms/step - loss: 0.1527 - accuracy: 0.9566\n",
            "Epoch 3/10\n",
            "250/250 [==============================] - 5s 18ms/step - loss: 0.0914 - accuracy: 0.9740\n",
            "Epoch 4/10\n",
            "250/250 [==============================] - 6s 24ms/step - loss: 0.0547 - accuracy: 0.9854\n",
            "Epoch 5/10\n",
            "250/250 [==============================] - 5s 18ms/step - loss: 0.0337 - accuracy: 0.9908\n",
            "Epoch 6/10\n",
            "250/250 [==============================] - 5s 21ms/step - loss: 0.0250 - accuracy: 0.9934\n",
            "Epoch 7/10\n",
            "250/250 [==============================] - 5s 18ms/step - loss: 0.0150 - accuracy: 0.9973\n",
            "Epoch 8/10\n",
            "250/250 [==============================] - 5s 18ms/step - loss: 0.0101 - accuracy: 0.9981\n",
            "Epoch 9/10\n",
            "250/250 [==============================] - 5s 21ms/step - loss: 0.0058 - accuracy: 0.9989\n",
            "Epoch 10/10\n",
            "250/250 [==============================] - 5s 18ms/step - loss: 0.0024 - accuracy: 0.9999\n",
            "accuracy: 97.20%\n"
          ]
        }
      ]
    },
    {
      "cell_type": "code",
      "source": [
        "print(f\"Average Accuracy: {np.mean(cvscores):.2f}% (+/- {np.std(cvscores):.2f}%)\")"
      ],
      "metadata": {
        "id": "YDJQKWAzgLlp",
        "colab": {
          "base_uri": "https://localhost:8080/"
        },
        "outputId": "b8785d53-8577-45c8-d91e-192282699d44"
      },
      "execution_count": 10,
      "outputs": [
        {
          "output_type": "stream",
          "name": "stdout",
          "text": [
            "Average Accuracy: 97.16% (+/- 0.09%)\n"
          ]
        }
      ]
    }
  ]
}