{
 "cells": [
  {
   "cell_type": "markdown",
   "metadata": {},
   "source": [
    "# AND GATE PERCEPTRON MODEL"
   ]
  },
  {
   "cell_type": "markdown",
   "metadata": {},
   "source": [
    "### 21BAI1780 - ATHARVA MANKAME "
   ]
  },
  {
   "cell_type": "code",
   "execution_count": 29,
   "metadata": {},
   "outputs": [
    {
     "name": "stdout",
     "output_type": "stream",
     "text": [
      "Initial weights -> 0.4, 0.6\n",
      "Epoch 1: [0.4, 0.3] | Error = 1\n",
      "Epoch 2: [0.4, 0.3] | Error = 0\n",
      "Epoch 3: [0.4, 0.3] | Error = 0\n",
      "Epoch 4: [0.4, 0.3] | Error = 0\n",
      "Epoch 5: [0.4, 0.3] | Error = 0\n",
      "Epoch 6: [0.4, 0.3] | Error = 0\n",
      "Epoch 7: [0.4, 0.3] | Error = 0\n",
      "Epoch 8: [0.4, 0.3] | Error = 0\n",
      "Epoch 9: [0.4, 0.3] | Error = 0\n",
      "Epoch 10: [0.4, 0.3] | Error = 0\n",
      "\n",
      "Testing the perceptron:\n",
      "(x,y): (0,0) | RESULT: 0\n",
      "(x,y): (0,1) | RESULT: 0\n",
      "(x,y): (1,0) | RESULT: 0\n",
      "(x,y): (1,1) | RESULT: 1\n"
     ]
    }
   ],
   "source": [
    "dataset = [[0, 0, 0], [0, 1, 0], [1, 0, 0], [1, 1, 1]]  # Input dataset for AND gate\n",
    "weights = [0.4, 0.6]  # Initial weights\n",
    "learning_rate = 0.3  # Learning rate\n",
    "print(f\"Initial weights -> {weights[0]}, {weights[1]}\")\n",
    "def perceptron(x, y):\n",
    "    summation = x * weights[0] + y * weights[1]\n",
    "    return 1 if summation >= 0.5 else 0\n",
    "\n",
    "def update_weights(x, y, error):\n",
    "    weights[0] += learning_rate * error * x\n",
    "    weights[1] += learning_rate * error * y\n",
    "\n",
    "# Training the perceptron\n",
    "epochs = 10\n",
    "for epoch in range(epochs):\n",
    "    total_error = 0\n",
    "    for x, y, expected_output in dataset:\n",
    "        output = perceptron(x, y)\n",
    "        error = expected_output - output\n",
    "        total_error += abs(error)\n",
    "        update_weights(x, y, error)\n",
    "    print(f\"Epoch {epoch+1}: {weights} | Error = {total_error}\")\n",
    "\n",
    "# Testing the perceptron\n",
    "print(\"\\nTesting the perceptron:\")\n",
    "test_data = [[0, 0], [0, 1], [1, 0], [1, 1]]\n",
    "for x, y in test_data:\n",
    "    output = perceptron(x, y)\n",
    "    print(f\"(x,y): ({x},{y}) | RESULT: {output}\")\n"
   ]
  }
 ],
 "metadata": {
  "kernelspec": {
   "display_name": "Python 3",
   "language": "python",
   "name": "python3"
  },
  "language_info": {
   "codemirror_mode": {
    "name": "ipython",
    "version": 3
   },
   "file_extension": ".py",
   "mimetype": "text/x-python",
   "name": "python",
   "nbconvert_exporter": "python",
   "pygments_lexer": "ipython3",
   "version": "3.10.2"
  },
  "orig_nbformat": 4
 },
 "nbformat": 4,
 "nbformat_minor": 2
}
