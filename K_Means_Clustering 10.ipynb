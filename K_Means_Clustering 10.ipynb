{
  "cells": [
    {
      "cell_type": "markdown",
      "source": [
        "###Atharva Mankame [21BAI1780]"
      ],
      "metadata": {
        "id": "Szt05Rk1HQGp"
      },
      "id": "Szt05Rk1HQGp"
    },
    {
      "cell_type": "code",
      "execution_count": 40,
      "id": "4167229d",
      "metadata": {
        "_cell_guid": "b1076dfc-b9ad-4769-8c92-a6c4dae69d19",
        "_uuid": "8f2839f25d086af736a60e9eeb907d3b93b6e0e5",
        "execution": {
          "iopub.execute_input": "2023-03-07T10:07:11.903494Z",
          "iopub.status.busy": "2023-03-07T10:07:11.902375Z",
          "iopub.status.idle": "2023-03-07T10:07:12.018801Z",
          "shell.execute_reply": "2023-03-07T10:07:12.017691Z"
        },
        "papermill": {
          "duration": 0.130815,
          "end_time": "2023-03-07T10:07:12.021868",
          "exception": false,
          "start_time": "2023-03-07T10:07:11.891053",
          "status": "completed"
        },
        "tags": [],
        "id": "4167229d"
      },
      "outputs": [],
      "source": [
        "import numpy as np\n",
        "import pandas as pd"
      ]
    },
    {
      "cell_type": "code",
      "execution_count": 41,
      "id": "11b1afaf",
      "metadata": {
        "execution": {
          "iopub.execute_input": "2023-03-07T10:07:12.047642Z",
          "iopub.status.busy": "2023-03-07T10:07:12.046403Z",
          "iopub.status.idle": "2023-03-07T10:07:13.378424Z",
          "shell.execute_reply": "2023-03-07T10:07:13.377186Z"
        },
        "papermill": {
          "duration": 1.341767,
          "end_time": "2023-03-07T10:07:13.381477",
          "exception": false,
          "start_time": "2023-03-07T10:07:12.039710",
          "status": "completed"
        },
        "tags": [],
        "id": "11b1afaf"
      },
      "outputs": [],
      "source": [
        "import pandas as pd\n",
        "from matplotlib import pyplot as plt\n",
        "import numpy as np\n",
        "from sklearn.preprocessing import StandardScaler\n",
        "import seaborn as sns"
      ]
    },
    {
      "cell_type": "code",
      "execution_count": 42,
      "id": "918f765d",
      "metadata": {
        "execution": {
          "iopub.execute_input": "2023-03-07T10:07:13.405645Z",
          "iopub.status.busy": "2023-03-07T10:07:13.405229Z",
          "iopub.status.idle": "2023-03-07T10:07:13.444570Z",
          "shell.execute_reply": "2023-03-07T10:07:13.443055Z"
        },
        "papermill": {
          "duration": 0.049367,
          "end_time": "2023-03-07T10:07:13.447395",
          "exception": false,
          "start_time": "2023-03-07T10:07:13.398028",
          "status": "completed"
        },
        "tags": [],
        "colab": {
          "base_uri": "https://localhost:8080/",
          "height": 206
        },
        "id": "918f765d",
        "outputId": "12b017d3-1253-4aed-e367-ca1938c0b894"
      },
      "outputs": [
        {
          "output_type": "execute_result",
          "data": {
            "text/plain": [
              "   Sl_No  Customer Key  Avg_Credit_Limit  Total_Credit_Cards  \\\n",
              "0      1         87073            100000                   2   \n",
              "1      2         38414             50000                   3   \n",
              "2      3         17341             50000                   7   \n",
              "3      4         40496             30000                   5   \n",
              "4      5         47437            100000                   6   \n",
              "\n",
              "   Total_visits_bank  Total_visits_online  Total_calls_made  \n",
              "0                  1                    1                 0  \n",
              "1                  0                   10                 9  \n",
              "2                  1                    3                 4  \n",
              "3                  1                    1                 4  \n",
              "4                  0                   12                 3  "
            ],
            "text/html": [
              "\n",
              "  <div id=\"df-50fc76b0-e4d6-480a-a23c-3b1b58d0749d\">\n",
              "    <div class=\"colab-df-container\">\n",
              "      <div>\n",
              "<style scoped>\n",
              "    .dataframe tbody tr th:only-of-type {\n",
              "        vertical-align: middle;\n",
              "    }\n",
              "\n",
              "    .dataframe tbody tr th {\n",
              "        vertical-align: top;\n",
              "    }\n",
              "\n",
              "    .dataframe thead th {\n",
              "        text-align: right;\n",
              "    }\n",
              "</style>\n",
              "<table border=\"1\" class=\"dataframe\">\n",
              "  <thead>\n",
              "    <tr style=\"text-align: right;\">\n",
              "      <th></th>\n",
              "      <th>Sl_No</th>\n",
              "      <th>Customer Key</th>\n",
              "      <th>Avg_Credit_Limit</th>\n",
              "      <th>Total_Credit_Cards</th>\n",
              "      <th>Total_visits_bank</th>\n",
              "      <th>Total_visits_online</th>\n",
              "      <th>Total_calls_made</th>\n",
              "    </tr>\n",
              "  </thead>\n",
              "  <tbody>\n",
              "    <tr>\n",
              "      <th>0</th>\n",
              "      <td>1</td>\n",
              "      <td>87073</td>\n",
              "      <td>100000</td>\n",
              "      <td>2</td>\n",
              "      <td>1</td>\n",
              "      <td>1</td>\n",
              "      <td>0</td>\n",
              "    </tr>\n",
              "    <tr>\n",
              "      <th>1</th>\n",
              "      <td>2</td>\n",
              "      <td>38414</td>\n",
              "      <td>50000</td>\n",
              "      <td>3</td>\n",
              "      <td>0</td>\n",
              "      <td>10</td>\n",
              "      <td>9</td>\n",
              "    </tr>\n",
              "    <tr>\n",
              "      <th>2</th>\n",
              "      <td>3</td>\n",
              "      <td>17341</td>\n",
              "      <td>50000</td>\n",
              "      <td>7</td>\n",
              "      <td>1</td>\n",
              "      <td>3</td>\n",
              "      <td>4</td>\n",
              "    </tr>\n",
              "    <tr>\n",
              "      <th>3</th>\n",
              "      <td>4</td>\n",
              "      <td>40496</td>\n",
              "      <td>30000</td>\n",
              "      <td>5</td>\n",
              "      <td>1</td>\n",
              "      <td>1</td>\n",
              "      <td>4</td>\n",
              "    </tr>\n",
              "    <tr>\n",
              "      <th>4</th>\n",
              "      <td>5</td>\n",
              "      <td>47437</td>\n",
              "      <td>100000</td>\n",
              "      <td>6</td>\n",
              "      <td>0</td>\n",
              "      <td>12</td>\n",
              "      <td>3</td>\n",
              "    </tr>\n",
              "  </tbody>\n",
              "</table>\n",
              "</div>\n",
              "      <button class=\"colab-df-convert\" onclick=\"convertToInteractive('df-50fc76b0-e4d6-480a-a23c-3b1b58d0749d')\"\n",
              "              title=\"Convert this dataframe to an interactive table.\"\n",
              "              style=\"display:none;\">\n",
              "        \n",
              "  <svg xmlns=\"http://www.w3.org/2000/svg\" height=\"24px\"viewBox=\"0 0 24 24\"\n",
              "       width=\"24px\">\n",
              "    <path d=\"M0 0h24v24H0V0z\" fill=\"none\"/>\n",
              "    <path d=\"M18.56 5.44l.94 2.06.94-2.06 2.06-.94-2.06-.94-.94-2.06-.94 2.06-2.06.94zm-11 1L8.5 8.5l.94-2.06 2.06-.94-2.06-.94L8.5 2.5l-.94 2.06-2.06.94zm10 10l.94 2.06.94-2.06 2.06-.94-2.06-.94-.94-2.06-.94 2.06-2.06.94z\"/><path d=\"M17.41 7.96l-1.37-1.37c-.4-.4-.92-.59-1.43-.59-.52 0-1.04.2-1.43.59L10.3 9.45l-7.72 7.72c-.78.78-.78 2.05 0 2.83L4 21.41c.39.39.9.59 1.41.59.51 0 1.02-.2 1.41-.59l7.78-7.78 2.81-2.81c.8-.78.8-2.07 0-2.86zM5.41 20L4 18.59l7.72-7.72 1.47 1.35L5.41 20z\"/>\n",
              "  </svg>\n",
              "      </button>\n",
              "      \n",
              "  <style>\n",
              "    .colab-df-container {\n",
              "      display:flex;\n",
              "      flex-wrap:wrap;\n",
              "      gap: 12px;\n",
              "    }\n",
              "\n",
              "    .colab-df-convert {\n",
              "      background-color: #E8F0FE;\n",
              "      border: none;\n",
              "      border-radius: 50%;\n",
              "      cursor: pointer;\n",
              "      display: none;\n",
              "      fill: #1967D2;\n",
              "      height: 32px;\n",
              "      padding: 0 0 0 0;\n",
              "      width: 32px;\n",
              "    }\n",
              "\n",
              "    .colab-df-convert:hover {\n",
              "      background-color: #E2EBFA;\n",
              "      box-shadow: 0px 1px 2px rgba(60, 64, 67, 0.3), 0px 1px 3px 1px rgba(60, 64, 67, 0.15);\n",
              "      fill: #174EA6;\n",
              "    }\n",
              "\n",
              "    [theme=dark] .colab-df-convert {\n",
              "      background-color: #3B4455;\n",
              "      fill: #D2E3FC;\n",
              "    }\n",
              "\n",
              "    [theme=dark] .colab-df-convert:hover {\n",
              "      background-color: #434B5C;\n",
              "      box-shadow: 0px 1px 3px 1px rgba(0, 0, 0, 0.15);\n",
              "      filter: drop-shadow(0px 1px 2px rgba(0, 0, 0, 0.3));\n",
              "      fill: #FFFFFF;\n",
              "    }\n",
              "  </style>\n",
              "\n",
              "      <script>\n",
              "        const buttonEl =\n",
              "          document.querySelector('#df-50fc76b0-e4d6-480a-a23c-3b1b58d0749d button.colab-df-convert');\n",
              "        buttonEl.style.display =\n",
              "          google.colab.kernel.accessAllowed ? 'block' : 'none';\n",
              "\n",
              "        async function convertToInteractive(key) {\n",
              "          const element = document.querySelector('#df-50fc76b0-e4d6-480a-a23c-3b1b58d0749d');\n",
              "          const dataTable =\n",
              "            await google.colab.kernel.invokeFunction('convertToInteractive',\n",
              "                                                     [key], {});\n",
              "          if (!dataTable) return;\n",
              "\n",
              "          const docLinkHtml = 'Like what you see? Visit the ' +\n",
              "            '<a target=\"_blank\" href=https://colab.research.google.com/notebooks/data_table.ipynb>data table notebook</a>'\n",
              "            + ' to learn more about interactive tables.';\n",
              "          element.innerHTML = '';\n",
              "          dataTable['output_type'] = 'display_data';\n",
              "          await google.colab.output.renderOutput(dataTable, element);\n",
              "          const docLink = document.createElement('div');\n",
              "          docLink.innerHTML = docLinkHtml;\n",
              "          element.appendChild(docLink);\n",
              "        }\n",
              "      </script>\n",
              "    </div>\n",
              "  </div>\n",
              "  "
            ]
          },
          "metadata": {},
          "execution_count": 42
        }
      ],
      "source": [
        "data = pd.read_csv('/content/Credit Card Customer Data.csv')\n",
        "data.head()"
      ]
    },
    {
      "cell_type": "code",
      "execution_count": 43,
      "id": "f70fc699",
      "metadata": {
        "execution": {
          "iopub.execute_input": "2023-03-07T10:07:13.473074Z",
          "iopub.status.busy": "2023-03-07T10:07:13.472341Z",
          "iopub.status.idle": "2023-03-07T10:07:13.479811Z",
          "shell.execute_reply": "2023-03-07T10:07:13.478489Z"
        },
        "papermill": {
          "duration": 0.017369,
          "end_time": "2023-03-07T10:07:13.482427",
          "exception": false,
          "start_time": "2023-03-07T10:07:13.465058",
          "status": "completed"
        },
        "tags": [],
        "colab": {
          "base_uri": "https://localhost:8080/"
        },
        "id": "f70fc699",
        "outputId": "167be1ff-29d7-47ee-faef-13707b3ce5d6"
      },
      "outputs": [
        {
          "output_type": "execute_result",
          "data": {
            "text/plain": [
              "(660, 7)"
            ]
          },
          "metadata": {},
          "execution_count": 43
        }
      ],
      "source": [
        "data.shape"
      ]
    },
    {
      "cell_type": "code",
      "execution_count": 44,
      "id": "8ca9a917",
      "metadata": {
        "execution": {
          "iopub.execute_input": "2023-03-07T10:07:13.496417Z",
          "iopub.status.busy": "2023-03-07T10:07:13.495548Z",
          "iopub.status.idle": "2023-03-07T10:07:13.503232Z",
          "shell.execute_reply": "2023-03-07T10:07:13.501957Z"
        },
        "papermill": {
          "duration": 0.017549,
          "end_time": "2023-03-07T10:07:13.505851",
          "exception": false,
          "start_time": "2023-03-07T10:07:13.488302",
          "status": "completed"
        },
        "tags": [],
        "colab": {
          "base_uri": "https://localhost:8080/"
        },
        "id": "8ca9a917",
        "outputId": "fd3e3d23-2c0a-49bc-a315-4eaf6ff45d33"
      },
      "outputs": [
        {
          "output_type": "execute_result",
          "data": {
            "text/plain": [
              "Index(['Sl_No', 'Customer Key', 'Avg_Credit_Limit', 'Total_Credit_Cards',\n",
              "       'Total_visits_bank', 'Total_visits_online', 'Total_calls_made'],\n",
              "      dtype='object')"
            ]
          },
          "metadata": {},
          "execution_count": 44
        }
      ],
      "source": [
        "data.columns"
      ]
    },
    {
      "cell_type": "code",
      "execution_count": 45,
      "id": "3d1495f4",
      "metadata": {
        "execution": {
          "iopub.execute_input": "2023-03-07T10:07:13.520002Z",
          "iopub.status.busy": "2023-03-07T10:07:13.519428Z",
          "iopub.status.idle": "2023-03-07T10:07:13.567136Z",
          "shell.execute_reply": "2023-03-07T10:07:13.565817Z"
        },
        "papermill": {
          "duration": 0.057602,
          "end_time": "2023-03-07T10:07:13.569710",
          "exception": false,
          "start_time": "2023-03-07T10:07:13.512108",
          "status": "completed"
        },
        "tags": [],
        "colab": {
          "base_uri": "https://localhost:8080/",
          "height": 300
        },
        "id": "3d1495f4",
        "outputId": "125dfd74-bd72-4ddb-8f17-89fd8479fb6a"
      },
      "outputs": [
        {
          "output_type": "execute_result",
          "data": {
            "text/plain": [
              "            Sl_No  Customer Key  Avg_Credit_Limit  Total_Credit_Cards  \\\n",
              "count  660.000000    660.000000        660.000000          660.000000   \n",
              "mean   330.500000  55141.443939      34574.242424            4.706061   \n",
              "std    190.669872  25627.772200      37625.487804            2.167835   \n",
              "min      1.000000  11265.000000       3000.000000            1.000000   \n",
              "25%    165.750000  33825.250000      10000.000000            3.000000   \n",
              "50%    330.500000  53874.500000      18000.000000            5.000000   \n",
              "75%    495.250000  77202.500000      48000.000000            6.000000   \n",
              "max    660.000000  99843.000000     200000.000000           10.000000   \n",
              "\n",
              "       Total_visits_bank  Total_visits_online  Total_calls_made  \n",
              "count         660.000000           660.000000        660.000000  \n",
              "mean            2.403030             2.606061          3.583333  \n",
              "std             1.631813             2.935724          2.865317  \n",
              "min             0.000000             0.000000          0.000000  \n",
              "25%             1.000000             1.000000          1.000000  \n",
              "50%             2.000000             2.000000          3.000000  \n",
              "75%             4.000000             4.000000          5.000000  \n",
              "max             5.000000            15.000000         10.000000  "
            ],
            "text/html": [
              "\n",
              "  <div id=\"df-26be885c-c8ef-4796-8bcf-06506e4f50e0\">\n",
              "    <div class=\"colab-df-container\">\n",
              "      <div>\n",
              "<style scoped>\n",
              "    .dataframe tbody tr th:only-of-type {\n",
              "        vertical-align: middle;\n",
              "    }\n",
              "\n",
              "    .dataframe tbody tr th {\n",
              "        vertical-align: top;\n",
              "    }\n",
              "\n",
              "    .dataframe thead th {\n",
              "        text-align: right;\n",
              "    }\n",
              "</style>\n",
              "<table border=\"1\" class=\"dataframe\">\n",
              "  <thead>\n",
              "    <tr style=\"text-align: right;\">\n",
              "      <th></th>\n",
              "      <th>Sl_No</th>\n",
              "      <th>Customer Key</th>\n",
              "      <th>Avg_Credit_Limit</th>\n",
              "      <th>Total_Credit_Cards</th>\n",
              "      <th>Total_visits_bank</th>\n",
              "      <th>Total_visits_online</th>\n",
              "      <th>Total_calls_made</th>\n",
              "    </tr>\n",
              "  </thead>\n",
              "  <tbody>\n",
              "    <tr>\n",
              "      <th>count</th>\n",
              "      <td>660.000000</td>\n",
              "      <td>660.000000</td>\n",
              "      <td>660.000000</td>\n",
              "      <td>660.000000</td>\n",
              "      <td>660.000000</td>\n",
              "      <td>660.000000</td>\n",
              "      <td>660.000000</td>\n",
              "    </tr>\n",
              "    <tr>\n",
              "      <th>mean</th>\n",
              "      <td>330.500000</td>\n",
              "      <td>55141.443939</td>\n",
              "      <td>34574.242424</td>\n",
              "      <td>4.706061</td>\n",
              "      <td>2.403030</td>\n",
              "      <td>2.606061</td>\n",
              "      <td>3.583333</td>\n",
              "    </tr>\n",
              "    <tr>\n",
              "      <th>std</th>\n",
              "      <td>190.669872</td>\n",
              "      <td>25627.772200</td>\n",
              "      <td>37625.487804</td>\n",
              "      <td>2.167835</td>\n",
              "      <td>1.631813</td>\n",
              "      <td>2.935724</td>\n",
              "      <td>2.865317</td>\n",
              "    </tr>\n",
              "    <tr>\n",
              "      <th>min</th>\n",
              "      <td>1.000000</td>\n",
              "      <td>11265.000000</td>\n",
              "      <td>3000.000000</td>\n",
              "      <td>1.000000</td>\n",
              "      <td>0.000000</td>\n",
              "      <td>0.000000</td>\n",
              "      <td>0.000000</td>\n",
              "    </tr>\n",
              "    <tr>\n",
              "      <th>25%</th>\n",
              "      <td>165.750000</td>\n",
              "      <td>33825.250000</td>\n",
              "      <td>10000.000000</td>\n",
              "      <td>3.000000</td>\n",
              "      <td>1.000000</td>\n",
              "      <td>1.000000</td>\n",
              "      <td>1.000000</td>\n",
              "    </tr>\n",
              "    <tr>\n",
              "      <th>50%</th>\n",
              "      <td>330.500000</td>\n",
              "      <td>53874.500000</td>\n",
              "      <td>18000.000000</td>\n",
              "      <td>5.000000</td>\n",
              "      <td>2.000000</td>\n",
              "      <td>2.000000</td>\n",
              "      <td>3.000000</td>\n",
              "    </tr>\n",
              "    <tr>\n",
              "      <th>75%</th>\n",
              "      <td>495.250000</td>\n",
              "      <td>77202.500000</td>\n",
              "      <td>48000.000000</td>\n",
              "      <td>6.000000</td>\n",
              "      <td>4.000000</td>\n",
              "      <td>4.000000</td>\n",
              "      <td>5.000000</td>\n",
              "    </tr>\n",
              "    <tr>\n",
              "      <th>max</th>\n",
              "      <td>660.000000</td>\n",
              "      <td>99843.000000</td>\n",
              "      <td>200000.000000</td>\n",
              "      <td>10.000000</td>\n",
              "      <td>5.000000</td>\n",
              "      <td>15.000000</td>\n",
              "      <td>10.000000</td>\n",
              "    </tr>\n",
              "  </tbody>\n",
              "</table>\n",
              "</div>\n",
              "      <button class=\"colab-df-convert\" onclick=\"convertToInteractive('df-26be885c-c8ef-4796-8bcf-06506e4f50e0')\"\n",
              "              title=\"Convert this dataframe to an interactive table.\"\n",
              "              style=\"display:none;\">\n",
              "        \n",
              "  <svg xmlns=\"http://www.w3.org/2000/svg\" height=\"24px\"viewBox=\"0 0 24 24\"\n",
              "       width=\"24px\">\n",
              "    <path d=\"M0 0h24v24H0V0z\" fill=\"none\"/>\n",
              "    <path d=\"M18.56 5.44l.94 2.06.94-2.06 2.06-.94-2.06-.94-.94-2.06-.94 2.06-2.06.94zm-11 1L8.5 8.5l.94-2.06 2.06-.94-2.06-.94L8.5 2.5l-.94 2.06-2.06.94zm10 10l.94 2.06.94-2.06 2.06-.94-2.06-.94-.94-2.06-.94 2.06-2.06.94z\"/><path d=\"M17.41 7.96l-1.37-1.37c-.4-.4-.92-.59-1.43-.59-.52 0-1.04.2-1.43.59L10.3 9.45l-7.72 7.72c-.78.78-.78 2.05 0 2.83L4 21.41c.39.39.9.59 1.41.59.51 0 1.02-.2 1.41-.59l7.78-7.78 2.81-2.81c.8-.78.8-2.07 0-2.86zM5.41 20L4 18.59l7.72-7.72 1.47 1.35L5.41 20z\"/>\n",
              "  </svg>\n",
              "      </button>\n",
              "      \n",
              "  <style>\n",
              "    .colab-df-container {\n",
              "      display:flex;\n",
              "      flex-wrap:wrap;\n",
              "      gap: 12px;\n",
              "    }\n",
              "\n",
              "    .colab-df-convert {\n",
              "      background-color: #E8F0FE;\n",
              "      border: none;\n",
              "      border-radius: 50%;\n",
              "      cursor: pointer;\n",
              "      display: none;\n",
              "      fill: #1967D2;\n",
              "      height: 32px;\n",
              "      padding: 0 0 0 0;\n",
              "      width: 32px;\n",
              "    }\n",
              "\n",
              "    .colab-df-convert:hover {\n",
              "      background-color: #E2EBFA;\n",
              "      box-shadow: 0px 1px 2px rgba(60, 64, 67, 0.3), 0px 1px 3px 1px rgba(60, 64, 67, 0.15);\n",
              "      fill: #174EA6;\n",
              "    }\n",
              "\n",
              "    [theme=dark] .colab-df-convert {\n",
              "      background-color: #3B4455;\n",
              "      fill: #D2E3FC;\n",
              "    }\n",
              "\n",
              "    [theme=dark] .colab-df-convert:hover {\n",
              "      background-color: #434B5C;\n",
              "      box-shadow: 0px 1px 3px 1px rgba(0, 0, 0, 0.15);\n",
              "      filter: drop-shadow(0px 1px 2px rgba(0, 0, 0, 0.3));\n",
              "      fill: #FFFFFF;\n",
              "    }\n",
              "  </style>\n",
              "\n",
              "      <script>\n",
              "        const buttonEl =\n",
              "          document.querySelector('#df-26be885c-c8ef-4796-8bcf-06506e4f50e0 button.colab-df-convert');\n",
              "        buttonEl.style.display =\n",
              "          google.colab.kernel.accessAllowed ? 'block' : 'none';\n",
              "\n",
              "        async function convertToInteractive(key) {\n",
              "          const element = document.querySelector('#df-26be885c-c8ef-4796-8bcf-06506e4f50e0');\n",
              "          const dataTable =\n",
              "            await google.colab.kernel.invokeFunction('convertToInteractive',\n",
              "                                                     [key], {});\n",
              "          if (!dataTable) return;\n",
              "\n",
              "          const docLinkHtml = 'Like what you see? Visit the ' +\n",
              "            '<a target=\"_blank\" href=https://colab.research.google.com/notebooks/data_table.ipynb>data table notebook</a>'\n",
              "            + ' to learn more about interactive tables.';\n",
              "          element.innerHTML = '';\n",
              "          dataTable['output_type'] = 'display_data';\n",
              "          await google.colab.output.renderOutput(dataTable, element);\n",
              "          const docLink = document.createElement('div');\n",
              "          docLink.innerHTML = docLinkHtml;\n",
              "          element.appendChild(docLink);\n",
              "        }\n",
              "      </script>\n",
              "    </div>\n",
              "  </div>\n",
              "  "
            ]
          },
          "metadata": {},
          "execution_count": 45
        }
      ],
      "source": [
        "data.describe()"
      ]
    },
    {
      "cell_type": "code",
      "execution_count": 46,
      "id": "28f57cae",
      "metadata": {
        "execution": {
          "iopub.execute_input": "2023-03-07T10:07:13.584482Z",
          "iopub.status.busy": "2023-03-07T10:07:13.583756Z",
          "iopub.status.idle": "2023-03-07T10:07:13.600559Z",
          "shell.execute_reply": "2023-03-07T10:07:13.599162Z"
        },
        "papermill": {
          "duration": 0.028106,
          "end_time": "2023-03-07T10:07:13.604110",
          "exception": false,
          "start_time": "2023-03-07T10:07:13.576004",
          "status": "completed"
        },
        "tags": [],
        "colab": {
          "base_uri": "https://localhost:8080/"
        },
        "id": "28f57cae",
        "outputId": "ed7b4328-1d65-4283-e021-4ea7af9333f0"
      },
      "outputs": [
        {
          "output_type": "stream",
          "name": "stdout",
          "text": [
            "<class 'pandas.core.frame.DataFrame'>\n",
            "RangeIndex: 660 entries, 0 to 659\n",
            "Data columns (total 7 columns):\n",
            " #   Column               Non-Null Count  Dtype\n",
            "---  ------               --------------  -----\n",
            " 0   Sl_No                660 non-null    int64\n",
            " 1   Customer Key         660 non-null    int64\n",
            " 2   Avg_Credit_Limit     660 non-null    int64\n",
            " 3   Total_Credit_Cards   660 non-null    int64\n",
            " 4   Total_visits_bank    660 non-null    int64\n",
            " 5   Total_visits_online  660 non-null    int64\n",
            " 6   Total_calls_made     660 non-null    int64\n",
            "dtypes: int64(7)\n",
            "memory usage: 36.2 KB\n"
          ]
        }
      ],
      "source": [
        "data.info()"
      ]
    },
    {
      "cell_type": "code",
      "execution_count": 47,
      "id": "45a27298",
      "metadata": {
        "execution": {
          "iopub.execute_input": "2023-03-07T10:07:13.632950Z",
          "iopub.status.busy": "2023-03-07T10:07:13.632014Z",
          "iopub.status.idle": "2023-03-07T10:07:13.642657Z",
          "shell.execute_reply": "2023-03-07T10:07:13.641235Z"
        },
        "papermill": {
          "duration": 0.020922,
          "end_time": "2023-03-07T10:07:13.645284",
          "exception": false,
          "start_time": "2023-03-07T10:07:13.624362",
          "status": "completed"
        },
        "tags": [],
        "colab": {
          "base_uri": "https://localhost:8080/"
        },
        "id": "45a27298",
        "outputId": "7de708eb-f851-485a-eff6-fe9f67b16033"
      },
      "outputs": [
        {
          "output_type": "execute_result",
          "data": {
            "text/plain": [
              "Sl_No                  0\n",
              "Customer Key           0\n",
              "Avg_Credit_Limit       0\n",
              "Total_Credit_Cards     0\n",
              "Total_visits_bank      0\n",
              "Total_visits_online    0\n",
              "Total_calls_made       0\n",
              "dtype: int64"
            ]
          },
          "metadata": {},
          "execution_count": 47
        }
      ],
      "source": [
        "data.isna().sum()"
      ]
    },
    {
      "cell_type": "code",
      "execution_count": 48,
      "id": "75f47535",
      "metadata": {
        "execution": {
          "iopub.execute_input": "2023-03-07T10:07:13.672684Z",
          "iopub.status.busy": "2023-03-07T10:07:13.672292Z",
          "iopub.status.idle": "2023-03-07T10:07:13.682579Z",
          "shell.execute_reply": "2023-03-07T10:07:13.681343Z"
        },
        "papermill": {
          "duration": 0.020361,
          "end_time": "2023-03-07T10:07:13.684927",
          "exception": false,
          "start_time": "2023-03-07T10:07:13.664566",
          "status": "completed"
        },
        "tags": [],
        "colab": {
          "base_uri": "https://localhost:8080/"
        },
        "id": "75f47535",
        "outputId": "dcbcb13f-429a-4fdf-b685-c38e4a0caade"
      },
      "outputs": [
        {
          "output_type": "execute_result",
          "data": {
            "text/plain": [
              "Index(['Avg_Credit_Limit', 'Total_Credit_Cards', 'Total_visits_bank',\n",
              "       'Total_visits_online', 'Total_calls_made'],\n",
              "      dtype='object')"
            ]
          },
          "metadata": {},
          "execution_count": 48
        }
      ],
      "source": [
        "data = data.drop(\"Sl_No\", axis = 1)\n",
        "\n",
        "data = data.drop(\"Customer Key\", axis = 1)\n",
        "data.columns"
      ]
    },
    {
      "cell_type": "code",
      "execution_count": 49,
      "id": "dc970ef5",
      "metadata": {
        "execution": {
          "iopub.execute_input": "2023-03-07T10:07:13.713446Z",
          "iopub.status.busy": "2023-03-07T10:07:13.712293Z",
          "iopub.status.idle": "2023-03-07T10:07:13.723838Z",
          "shell.execute_reply": "2023-03-07T10:07:13.721811Z"
        },
        "papermill": {
          "duration": 0.022372,
          "end_time": "2023-03-07T10:07:13.726623",
          "exception": false,
          "start_time": "2023-03-07T10:07:13.704251",
          "status": "completed"
        },
        "tags": [],
        "colab": {
          "base_uri": "https://localhost:8080/"
        },
        "id": "dc970ef5",
        "outputId": "0d2fb8e9-ebeb-49cd-bd77-7f5772b0d355"
      },
      "outputs": [
        {
          "output_type": "stream",
          "name": "stdout",
          "text": [
            "[[ 1.74018685 -1.24922476 -0.86045063 -0.54748969 -1.25153737]\n",
            " [ 0.41029254 -0.78758515 -1.47373077  2.5205186   1.89185881]\n",
            " [ 0.41029254  1.05897329 -0.86045063  0.13428993  0.1455276 ]\n",
            " ...\n",
            " [ 2.93709172  1.5206129  -0.86045063  2.17962879 -0.90227113]\n",
            " [ 3.65523464  2.44389211 -0.86045063  4.22496765 -1.25153737]\n",
            " [ 3.52224521  1.9822525  -1.47373077  3.20229822 -0.55300488]]\n"
          ]
        }
      ],
      "source": [
        "sc = StandardScaler()\n",
        "data = sc.fit_transform(data)\n",
        "print(data[:, 0:5])"
      ]
    },
    {
      "cell_type": "code",
      "execution_count": 50,
      "id": "e8d1fe40",
      "metadata": {
        "execution": {
          "iopub.execute_input": "2023-03-07T10:07:13.755408Z",
          "iopub.status.busy": "2023-03-07T10:07:13.754672Z",
          "iopub.status.idle": "2023-03-07T10:07:14.926258Z",
          "shell.execute_reply": "2023-03-07T10:07:14.924704Z"
        },
        "papermill": {
          "duration": 1.182363,
          "end_time": "2023-03-07T10:07:14.928793",
          "exception": false,
          "start_time": "2023-03-07T10:07:13.746430",
          "status": "completed"
        },
        "tags": [],
        "colab": {
          "base_uri": "https://localhost:8080/",
          "height": 781
        },
        "id": "e8d1fe40",
        "outputId": "bd295269-ddb9-477b-9219-79c4662d7825"
      },
      "outputs": [
        {
          "output_type": "stream",
          "name": "stderr",
          "text": [
            "/usr/local/lib/python3.10/dist-packages/sklearn/cluster/_kmeans.py:870: FutureWarning: The default value of `n_init` will change from 10 to 'auto' in 1.4. Set the value of `n_init` explicitly to suppress the warning\n",
            "  warnings.warn(\n",
            "/usr/local/lib/python3.10/dist-packages/sklearn/cluster/_kmeans.py:870: FutureWarning: The default value of `n_init` will change from 10 to 'auto' in 1.4. Set the value of `n_init` explicitly to suppress the warning\n",
            "  warnings.warn(\n",
            "/usr/local/lib/python3.10/dist-packages/sklearn/cluster/_kmeans.py:870: FutureWarning: The default value of `n_init` will change from 10 to 'auto' in 1.4. Set the value of `n_init` explicitly to suppress the warning\n",
            "  warnings.warn(\n",
            "/usr/local/lib/python3.10/dist-packages/sklearn/cluster/_kmeans.py:870: FutureWarning: The default value of `n_init` will change from 10 to 'auto' in 1.4. Set the value of `n_init` explicitly to suppress the warning\n",
            "  warnings.warn(\n",
            "/usr/local/lib/python3.10/dist-packages/sklearn/cluster/_kmeans.py:870: FutureWarning: The default value of `n_init` will change from 10 to 'auto' in 1.4. Set the value of `n_init` explicitly to suppress the warning\n",
            "  warnings.warn(\n",
            "/usr/local/lib/python3.10/dist-packages/sklearn/cluster/_kmeans.py:870: FutureWarning: The default value of `n_init` will change from 10 to 'auto' in 1.4. Set the value of `n_init` explicitly to suppress the warning\n",
            "  warnings.warn(\n",
            "/usr/local/lib/python3.10/dist-packages/sklearn/cluster/_kmeans.py:870: FutureWarning: The default value of `n_init` will change from 10 to 'auto' in 1.4. Set the value of `n_init` explicitly to suppress the warning\n",
            "  warnings.warn(\n",
            "/usr/local/lib/python3.10/dist-packages/sklearn/cluster/_kmeans.py:870: FutureWarning: The default value of `n_init` will change from 10 to 'auto' in 1.4. Set the value of `n_init` explicitly to suppress the warning\n",
            "  warnings.warn(\n",
            "/usr/local/lib/python3.10/dist-packages/sklearn/cluster/_kmeans.py:870: FutureWarning: The default value of `n_init` will change from 10 to 'auto' in 1.4. Set the value of `n_init` explicitly to suppress the warning\n",
            "  warnings.warn(\n"
          ]
        },
        {
          "output_type": "display_data",
          "data": {
            "text/plain": [
              "<Figure size 640x480 with 1 Axes>"
            ],
            "image/png": "[encoded data removed]"
          },
          "metadata": {}
        }
      ],
      "source": [
        "from sklearn.cluster import KMeans\n",
        "inertia_scores=[]\n",
        "for i in range(1,10):\n",
        "    kmeans = KMeans(n_clusters= i, init='k-means++', random_state=0)\n",
        "    kmeans.fit(data)\n",
        "    inertia_scores.append(kmeans.inertia_)\n",
        "\n",
        "plt.plot(range(1, 10), inertia_scores)\n",
        "plt.xlabel('Number of clusters')\n",
        "plt.ylabel('Inertia Scores')\n",
        "plt.show()"
      ]
    },
    {
      "cell_type": "code",
      "execution_count": 51,
      "id": "dbcf706a",
      "metadata": {
        "execution": {
          "iopub.execute_input": "2023-03-07T10:07:14.959276Z",
          "iopub.status.busy": "2023-03-07T10:07:14.958837Z",
          "iopub.status.idle": "2023-03-07T10:07:15.007196Z",
          "shell.execute_reply": "2023-03-07T10:07:15.006127Z"
        },
        "papermill": {
          "duration": 0.060069,
          "end_time": "2023-03-07T10:07:15.010184",
          "exception": false,
          "start_time": "2023-03-07T10:07:14.950115",
          "status": "completed"
        },
        "tags": [],
        "colab": {
          "base_uri": "https://localhost:8080/"
        },
        "id": "dbcf706a",
        "outputId": "838f226e-dd33-449f-c908-10bc3c2d6fd5"
      },
      "outputs": [
        {
          "output_type": "stream",
          "name": "stderr",
          "text": [
            "/usr/local/lib/python3.10/dist-packages/sklearn/cluster/_kmeans.py:870: FutureWarning: The default value of `n_init` will change from 10 to 'auto' in 1.4. Set the value of `n_init` explicitly to suppress the warning\n",
            "  warnings.warn(\n"
          ]
        },
        {
          "output_type": "execute_result",
          "data": {
            "text/plain": [
              "array([0, 1, 0, 0, 2, 1, 2, 1, 1, 1, 1, 1, 1, 1, 1, 1, 1, 1, 1, 1, 1, 1,\n",
              "       1, 1, 1, 1, 1, 1, 1, 1, 1, 1, 1, 1, 1, 1, 1, 1, 1, 1, 1, 1, 1, 1,\n",
              "       1, 1, 1, 1, 1, 1, 1, 1, 1, 1, 1, 1, 1, 1, 1, 1, 1, 1, 1, 1, 1, 1,\n",
              "       1, 1, 1, 1, 1, 1, 1, 1, 1, 1, 1, 1, 1, 1, 1, 1, 1, 1, 1, 1, 1, 1,\n",
              "       1, 1, 1, 1, 1, 1, 1, 1, 1, 1, 1, 1, 1, 1, 1, 1, 1, 1, 1, 1, 1, 1,\n",
              "       1, 1, 1, 1, 1, 1, 1, 1, 1, 1, 1, 1, 1, 1, 1, 1, 1, 1, 1, 1, 1, 1,\n",
              "       1, 1, 1, 1, 1, 1, 1, 1, 1, 1, 1, 1, 1, 1, 1, 1, 1, 1, 1, 1, 1, 1,\n",
              "       1, 1, 1, 1, 1, 1, 1, 1, 1, 1, 1, 1, 1, 1, 1, 1, 1, 1, 1, 1, 1, 1,\n",
              "       1, 1, 1, 1, 1, 1, 1, 1, 1, 1, 1, 1, 1, 1, 1, 1, 1, 1, 1, 1, 1, 1,\n",
              "       1, 1, 1, 1, 1, 1, 1, 1, 1, 1, 1, 1, 1, 1, 1, 1, 1, 1, 1, 1, 1, 1,\n",
              "       1, 1, 1, 1, 1, 1, 1, 1, 0, 0, 0, 0, 0, 0, 0, 0, 0, 0, 0, 0, 0, 0,\n",
              "       0, 0, 0, 0, 0, 0, 0, 0, 0, 0, 0, 0, 0, 0, 0, 0, 0, 0, 0, 0, 0, 0,\n",
              "       0, 0, 0, 0, 0, 0, 0, 0, 0, 0, 0, 0, 0, 0, 0, 0, 0, 0, 0, 0, 0, 0,\n",
              "       0, 0, 0, 0, 0, 0, 0, 0, 0, 0, 0, 0, 0, 0, 0, 0, 0, 0, 0, 0, 0, 0,\n",
              "       0, 0, 0, 0, 0, 1, 0, 0, 0, 0, 0, 0, 0, 0, 0, 0, 0, 0, 0, 0, 0, 0,\n",
              "       0, 0, 0, 0, 0, 0, 0, 0, 0, 0, 0, 0, 0, 0, 0, 0, 0, 0, 0, 0, 0, 0,\n",
              "       0, 0, 0, 0, 0, 0, 0, 0, 0, 0, 0, 0, 0, 0, 0, 0, 0, 0, 0, 0, 0, 0,\n",
              "       0, 0, 0, 0, 0, 0, 0, 0, 0, 0, 0, 0, 0, 0, 0, 0, 0, 0, 0, 0, 0, 0,\n",
              "       0, 0, 0, 0, 0, 0, 0, 0, 0, 0, 0, 0, 0, 0, 0, 0, 0, 0, 0, 0, 0, 0,\n",
              "       0, 0, 0, 0, 0, 0, 0, 0, 0, 0, 0, 0, 0, 0, 0, 0, 0, 0, 0, 0, 0, 0,\n",
              "       0, 0, 0, 0, 0, 0, 0, 0, 0, 0, 0, 0, 0, 0, 0, 0, 0, 0, 0, 0, 0, 0,\n",
              "       0, 0, 0, 0, 0, 0, 0, 0, 0, 0, 0, 0, 0, 0, 0, 0, 0, 0, 0, 0, 0, 0,\n",
              "       0, 0, 0, 0, 0, 0, 0, 0, 0, 0, 0, 0, 0, 0, 0, 0, 0, 0, 0, 0, 0, 0,\n",
              "       0, 0, 0, 0, 0, 0, 0, 0, 0, 0, 0, 0, 0, 0, 0, 0, 0, 0, 0, 0, 0, 0,\n",
              "       0, 0, 0, 0, 0, 0, 0, 0, 0, 0, 0, 0, 0, 0, 0, 0, 0, 0, 0, 0, 0, 0,\n",
              "       0, 0, 0, 0, 0, 0, 0, 0, 0, 0, 0, 0, 0, 0, 0, 0, 0, 0, 0, 0, 0, 0,\n",
              "       0, 0, 0, 0, 0, 0, 0, 0, 0, 0, 0, 0, 0, 0, 0, 0, 0, 0, 0, 0, 0, 0,\n",
              "       0, 0, 0, 0, 0, 0, 0, 0, 0, 0, 0, 0, 0, 0, 0, 0, 0, 0, 2, 2, 2, 2,\n",
              "       2, 2, 2, 2, 2, 2, 2, 2, 2, 2, 2, 2, 2, 2, 2, 2, 2, 2, 2, 2, 2, 2,\n",
              "       2, 2, 2, 2, 2, 2, 2, 2, 2, 2, 2, 2, 2, 2, 2, 2, 2, 2, 2, 2, 2, 2],\n",
              "      dtype=int32)"
            ]
          },
          "metadata": {},
          "execution_count": 51
        }
      ],
      "source": [
        "from sklearn.cluster import KMeans\n",
        "\n",
        "kmeansmodel = KMeans(n_clusters= 3, init='k-means++', random_state=0)\n",
        "clusters = kmeansmodel.fit_predict(data)\n",
        "clusters"
      ]
    },
    {
      "cell_type": "code",
      "execution_count": 52,
      "id": "01ce301e",
      "metadata": {
        "execution": {
          "iopub.execute_input": "2023-03-07T10:07:15.042353Z",
          "iopub.status.busy": "2023-03-07T10:07:15.041929Z",
          "iopub.status.idle": "2023-03-07T10:07:15.324709Z",
          "shell.execute_reply": "2023-03-07T10:07:15.323414Z"
        },
        "papermill": {
          "duration": 0.294843,
          "end_time": "2023-03-07T10:07:15.327387",
          "exception": false,
          "start_time": "2023-03-07T10:07:15.032544",
          "status": "completed"
        },
        "tags": [],
        "colab": {
          "base_uri": "https://localhost:8080/",
          "height": 564
        },
        "id": "01ce301e",
        "outputId": "1ceff72a-b2ef-4785-9f87-187790e8fe92"
      },
      "outputs": [
        {
          "output_type": "display_data",
          "data": {
            "text/plain": [
              "<Figure size 1200x600 with 1 Axes>"
            ],
            "image/png": "[encoded data removed]"
          },
          "metadata": {}
        }
      ],
      "source": [
        "import matplotlib.pyplot as plt\n",
        "fig, ax = plt.subplots(figsize=(12, 6))\n",
        "plt.scatter(data[clusters == 0, 0], data[clusters == 0, 1], s = 20, c = 'red', label = '1st Cluster')\n",
        "plt.scatter(data[clusters == 1, 0], data[clusters == 1, 1], s = 20, c = 'blue', label = '2nd Cluster')\n",
        "plt.scatter(data[clusters == 2, 0], data[clusters == 2, 1], s = 20, c = 'green', label = '3rd Cluster')\n",
        "plt.scatter(kmeansmodel.cluster_centers_[:, 0], kmeansmodel.cluster_centers_[:, 1], s=200, c='black', label='Centroids', marker = '*')\n",
        "plt.title('Clusters of Credit Card Customer')\n",
        "plt.xlabel('Average_Credit_Limit')\n",
        "plt.ylabel('Total_Credit_Cards')\n",
        "plt.legend()\n",
        "plt.show()"
      ]
    }
  ],
  "metadata": {
    "kernelspec": {
      "display_name": "Python 3",
      "language": "python",
      "name": "python3"
    },
    "language_info": {
      "codemirror_mode": {
        "name": "ipython",
        "version": 3
      },
      "file_extension": ".py",
      "mimetype": "text/x-python",
      "name": "python",
      "nbconvert_exporter": "python",
      "pygments_lexer": "ipython3",
      "version": "3.7.12"
    },
    "papermill": {
      "default_parameters": {},
      "duration": 14.980045,
      "end_time": "2023-03-07T10:07:16.176207",
      "environment_variables": {},
      "exception": null,
      "input_path": "__notebook__.ipynb",
      "output_path": "__notebook__.ipynb",
      "parameters": {},
      "start_time": "2023-03-07T10:07:01.196162",
      "version": "2.4.0"
    },
    "colab": {
      "provenance": []
    }
  },
  "nbformat": 4,
  "nbformat_minor": 5
}