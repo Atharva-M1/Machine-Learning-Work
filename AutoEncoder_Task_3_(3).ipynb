{
  "nbformat": 4,
  "nbformat_minor": 0,
  "metadata": {
    "colab": {
      "provenance": []
    },
    "kernelspec": {
      "name": "python3",
      "display_name": "Python 3"
    },
    "language_info": {
      "name": "python"
    }
  },
  "cells": [
    {
      "cell_type": "markdown",
      "source": [
        "###Atharva Mankame [21BAI1780]"
      ],
      "metadata": {
        "id": "zTdysGQ4-0m6"
      }
    },
    {
      "cell_type": "markdown",
      "source": [
        "### Implementing an autoencoder a dimensionality reduction technique. (Use any image dataset). Extracting reduced features from latent space."
      ],
      "metadata": {
        "id": "QnXpLytj-0YQ"
      }
    },
    {
      "cell_type": "code",
      "source": [
        "from keras.layers import Input, Dense\n",
        "from keras.models import Model\n",
        "from keras.datasets import cifar10\n",
        "import numpy as np\n",
        "import matplotlib.pyplot as plt"
      ],
      "metadata": {
        "id": "rjSH2FzDYrz1"
      },
      "execution_count": 1,
      "outputs": []
    },
    {
      "cell_type": "code",
      "source": [
        "(X_train, y_train), (X_test, y_test) = cifar10.load_data()"
      ],
      "metadata": {
        "id": "j2ejrIYylNPG",
        "colab": {
          "base_uri": "https://localhost:8080/"
        },
        "outputId": "b01983c5-3383-47d3-dfbf-9c2bbcd84067"
      },
      "execution_count": 2,
      "outputs": [
        {
          "output_type": "stream",
          "name": "stdout",
          "text": [
            "Downloading data from https://www.cs.toronto.edu/~kriz/cifar-10-python.tar.gz\n",
            "170498071/170498071 [==============================] - 3s 0us/step\n"
          ]
        }
      ]
    },
    {
      "cell_type": "code",
      "source": [
        "X_train = X_train.astype('float32') / 255.0\n",
        "X_test = X_test.astype('float32') / 255.0"
      ],
      "metadata": {
        "id": "q_9OOq8HphGX"
      },
      "execution_count": 3,
      "outputs": []
    },
    {
      "cell_type": "code",
      "source": [
        "X_train = X_train.reshape((len(X_train), np.prod(X_train.shape[1:])))\n",
        "X_test = X_test.reshape((len(X_test), np.prod(X_test.shape[1:])))"
      ],
      "metadata": {
        "id": "OIPF71ptpihF"
      },
      "execution_count": 4,
      "outputs": []
    },
    {
      "cell_type": "code",
      "source": [
        "input_img = Input(shape=(3072,))  # 32x32x3 = 3072 for CIFAR-10"
      ],
      "metadata": {
        "id": "6xgZqOJadBe0"
      },
      "execution_count": 5,
      "outputs": []
    },
    {
      "cell_type": "code",
      "source": [
        "# Encoder\n",
        "encoded = Dense(512, activation='relu')(input_img)\n",
        "encoded = Dense(256, activation='relu')(encoded)\n",
        "encoded = Dense(128, activation='relu')(encoded)\n",
        "# Decoder\n",
        "decoded = Dense(256, activation='relu')(encoded)\n",
        "decoded = Dense(512, activation='relu')(decoded)\n",
        "decoded = Dense(3072, activation='sigmoid')(decoded)"
      ],
      "metadata": {
        "id": "y9cjrJnsdBl8"
      },
      "execution_count": 6,
      "outputs": []
    },
    {
      "cell_type": "code",
      "source": [
        "autoencoder = Model(input_img, decoded)\n",
        "autoencoder.compile(optimizer='adam', loss='mean_squared_error')"
      ],
      "metadata": {
        "id": "zrnP30eRdBow"
      },
      "execution_count": 7,
      "outputs": []
    },
    {
      "cell_type": "code",
      "source": [
        "autoencoder.fit(X_train, X_train, epochs=10, batch_size=256, shuffle=True, validation_data=(X_test, X_test))"
      ],
      "metadata": {
        "colab": {
          "base_uri": "https://localhost:8080/"
        },
        "id": "OMKXjVYBdBrc",
        "outputId": "805797a1-d225-4d0e-f15f-1b38d0cac367"
      },
      "execution_count": 8,
      "outputs": [
        {
          "output_type": "stream",
          "name": "stdout",
          "text": [
            "Epoch 1/10\n",
            "196/196 [==============================] - 40s 181ms/step - loss: 0.0380 - val_loss: 0.0254\n",
            "Epoch 2/10\n",
            "196/196 [==============================] - 29s 147ms/step - loss: 0.0223 - val_loss: 0.0224\n",
            "Epoch 3/10\n",
            "196/196 [==============================] - 29s 149ms/step - loss: 0.0190 - val_loss: 0.0183\n",
            "Epoch 4/10\n",
            "196/196 [==============================] - 32s 162ms/step - loss: 0.0171 - val_loss: 0.0166\n",
            "Epoch 5/10\n",
            "196/196 [==============================] - 30s 151ms/step - loss: 0.0162 - val_loss: 0.0160\n",
            "Epoch 6/10\n",
            "196/196 [==============================] - 30s 151ms/step - loss: 0.0154 - val_loss: 0.0152\n",
            "Epoch 7/10\n",
            "196/196 [==============================] - 31s 160ms/step - loss: 0.0147 - val_loss: 0.0142\n",
            "Epoch 8/10\n",
            "196/196 [==============================] - 31s 157ms/step - loss: 0.0140 - val_loss: 0.0149\n",
            "Epoch 9/10\n",
            "196/196 [==============================] - 29s 147ms/step - loss: 0.0135 - val_loss: 0.0132\n",
            "Epoch 10/10\n",
            "196/196 [==============================] - 29s 146ms/step - loss: 0.0131 - val_loss: 0.0127\n"
          ]
        },
        {
          "output_type": "execute_result",
          "data": {
            "text/plain": [
              "<keras.src.callbacks.History at 0x79fe66089a50>"
            ]
          },
          "metadata": {},
          "execution_count": 8
        }
      ]
    },
    {
      "cell_type": "code",
      "source": [
        "# features from latent space\n",
        "encoder = Model(input_img, encoded)\n",
        "encoded_features_train = encoder.predict(X_train)\n",
        "encoded_features_test = encoder.predict(X_test)"
      ],
      "metadata": {
        "colab": {
          "base_uri": "https://localhost:8080/"
        },
        "id": "tRGZIpNXdBuT",
        "outputId": "88d1f3ca-e225-46ac-ebe7-22f55a82458d"
      },
      "execution_count": 9,
      "outputs": [
        {
          "output_type": "stream",
          "name": "stdout",
          "text": [
            "1563/1563 [==============================] - 10s 7ms/step\n",
            "313/313 [==============================] - 2s 7ms/step\n"
          ]
        }
      ]
    },
    {
      "cell_type": "code",
      "source": [
        "n = 10\n",
        "plt.figure(figsize=(20, 4))\n",
        "\n",
        "for i in range(n):\n",
        "\n",
        "    # reconstructed imgs\n",
        "    ax = plt.subplot(2, n, i + 1 + n)\n",
        "    plt.imshow(encoded_features_test[i].reshape(16, 8))\n",
        "    plt.gray()\n",
        "    ax.get_xaxis().set_visible(False)\n",
        "    ax.get_yaxis().set_visible(False)\n",
        "\n",
        "plt.show()\n"
      ],
      "metadata": {
        "colab": {
          "base_uri": "https://localhost:8080/",
          "height": 177
        },
        "id": "fj2xghJ4dBwx",
        "outputId": "9ba516ca-e5e0-4b38-efec-8b8541ab1a55"
      },
      "execution_count": 10,
      "outputs": [
        {
          "output_type": "display_data",
          "data": {
            "text/plain": [
              "<Figure size 2000x400 with 10 Axes>"
            ],
            "image/png": "[encoded data removed]"
          },
          "metadata": {}
        }
      ]
    }
  ]
}